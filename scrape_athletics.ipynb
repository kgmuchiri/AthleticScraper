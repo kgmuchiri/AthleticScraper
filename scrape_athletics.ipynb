{
 "cells": [
  {
   "cell_type": "code",
   "execution_count": null,
   "id": "8ca8bb56",
   "metadata": {},
   "outputs": [],
   "source": [
    "\n",
    "import requests\n",
    "from bs4 import BeautifulSoup\n",
    "import pandas as pd\n",
    "import time"
   ]
  },
  {
   "cell_type": "code",
   "execution_count": null,
   "id": "a870fef0",
   "metadata": {},
   "outputs": [],
   "source": [
    "genders = ['men', 'women']\n",
    "age_categories = ['senior', 'u20', 'u18']\n",
    "events = {\n",
    "    '100-metres': '10229509',\n",
    "    '200-metres': '10229511',\n",
    "    '400-metres': '10229512'\n",
    "}\n",
    "\n",
    "base_url = \"https://worldathletics.org/records/all-time-toplists/sprints/{event}/all/{gender}/{age_category}\"\n",
    "all_data = []\n"
   ]
  },
  {
   "cell_type": "code",
   "execution_count": null,
   "id": "727b9fbc",
   "metadata": {},
   "outputs": [],
   "source": [
    "def scrape_paginated_event(event_name, event_id, gender, age_category):\n",
    "    page = 1\n",
    "    while True:\n",
    "        url = base_url.format(event=event_name, gender=gender, age_category=age_category)\n",
    "        params = {\n",
    "            \"regionType\": \"world\",\n",
    "            \"timing\": \"electronic\",\n",
    "            \"windReading\": \"regular\",\n",
    "            \"page\": page,\n",
    "            \"bestResultsOnly\": \"false\",\n",
    "            \"firstDay\": \"1900-01-01\",\n",
    "            \"lastDay\": \"2025-05-12\",\n",
    "            \"maxResultsByCountry\": \"all\",\n",
    "            \"eventId\": event_id,\n",
    "            \"ageCategory\": age_category\n",
    "        }\n",
    "        headers = {\"User-Agent\": \"Mozilla/5.0\"}\n",
    "\n",
    "        response = requests.get(url, headers=headers, params=params)\n",
    "        soup = BeautifulSoup(response.text, 'html.parser')\n",
    "\n",
    "        table = soup.find('table', class_='records-table')\n",
    "        if not table:\n",
    "            break\n",
    "\n",
    "        rows = table.find('tbody').find_all('tr')\n",
    "        if not rows:\n",
    "            break  # No more data\n",
    "\n",
    "        for row in rows:\n",
    "            cols = row.find_all('td')\n",
    "            if not cols:\n",
    "                continue\n",
    "            all_data.append({\n",
    "                \"Event\": event_name,\n",
    "                \"Gender\": gender,\n",
    "                \"Age Category\": age_category,\n",
    "                \"Rank\": cols[0].text.strip(),\n",
    "                \"Mark\": cols[1].text.strip(),\n",
    "                \"Wind\": cols[2].text.strip(),\n",
    "                \"Competitor\": cols[3].text.strip(),\n",
    "                \"Competitor Link\": \"https://worldathletics.org\" + cols[3].find('a')['href'] if cols[3].find('a') else None,\n",
    "                \"DOB\": cols[4].text.strip(),\n",
    "                \"Nationality\": cols[5].text.strip(),  # country name/code\n",
    "                \"Position\": cols[6].text.strip(),\n",
    "                \"Venue\": cols[8].text.strip(),\n",
    "                \"Date\": cols[9].text.strip(),\n",
    "                \"ResultScore\": cols[10].text.strip()\n",
    "                \n",
    "            })\n",
    "\n",
    "        print(f\"[✓] Page {page} done for {event_name} - {gender} - {age_category}\")\n",
    "        page += 1\n",
    "        time.sleep(1)  # Respectful scraping delay\n"
   ]
  },
  {
   "cell_type": "code",
   "execution_count": null,
   "id": "8e16996b",
   "metadata": {},
   "outputs": [],
   "source": [
    "# Main loop\n",
    "for gender in genders:\n",
    "    for age_category in age_categories:\n",
    "        for event_name, event_id in events.items():\n",
    "            scrape_paginated_event(event_name, event_id, gender, age_category)"
   ]
  },
  {
   "cell_type": "code",
   "execution_count": null,
   "id": "83f94e60",
   "metadata": {},
   "outputs": [],
   "source": [
    "df = pd.DataFrame(all_data)\n",
    "df.to_csv('world_athletics_toplist_full.csv', index=False)\n",
    "print(\"✅ Scraping complete. Data saved to world_athletics_toplist_full.csv\")"
   ]
  }
 ],
 "metadata": {
  "kernelspec": {
   "display_name": "base",
   "language": "python",
   "name": "python3"
  },
  "language_info": {
   "name": "python",
   "version": "3.12.4"
  }
 },
 "nbformat": 4,
 "nbformat_minor": 5
}
